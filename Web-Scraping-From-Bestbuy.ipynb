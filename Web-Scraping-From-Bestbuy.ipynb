{
 "cells": [
  {
   "cell_type": "code",
   "execution_count": 1,
   "id": "790e0252",
   "metadata": {},
   "outputs": [],
   "source": [
    "# Import dependencies for web scraping and data cleaning\n",
    "\n",
    "import pandas as pd\n",
    "import requests\n",
    "from splinter import Browser\n",
    "from webdriver_manager.chrome import ChromeDriverManager\n",
    "from bs4 import BeautifulSoup\n",
    "from selenium import webdriver"
   ]
  },
  {
   "cell_type": "code",
   "execution_count": 2,
   "id": "107fbbec",
   "metadata": {},
   "outputs": [
    {
     "name": "stderr",
     "output_type": "stream",
     "text": [
      "[WDM] - \n",
      "\n",
      "[WDM] - ====== WebDriver manager ======\n",
      "[WDM] - Current google-chrome version is 97.0.4692\n",
      "[WDM] - Get LATEST driver version for 97.0.4692\n",
      "[WDM] - Driver [C:\\Users\\rache\\.wdm\\drivers\\chromedriver\\win32\\97.0.4692.71\\chromedriver.exe] found in cache\n"
     ]
    }
   ],
   "source": [
    "executable_path = {'executable_path': ChromeDriverManager().install()}\n",
    "browser = Browser('chrome', **executable_path, headless=False)\n",
    "url = 'https://www.bestbuy.com/site/computer-cards-components/computer-pc-processors/abcat0507010.c?id=abcat0507010'\n",
    "browser.visit(url)"
   ]
  },
  {
   "cell_type": "code",
   "execution_count": 3,
   "id": "d9b94820",
   "metadata": {},
   "outputs": [],
   "source": [
    "# Build a loop to go through each page (splinter) and append cpu names as well as prices into two seperate lists\n",
    "cpu_list = []\n",
    "price_list = []\n",
    "html = browser.html\n",
    "soup = BeautifulSoup(html,'html.parser')\n",
    "cpus = soup.find_all(\"div\", class_= 'sku-attribute-title')\n",
    "prices = soup.find_all('div',class_='priceView-hero-price priceView-customer-price')\n",
    "for cpu in cpus:\n",
    "    cpu_list.append(cpu.text)    \n",
    "for price in prices:\n",
    "    price_list.append(price.text)   "
   ]
  },
  {
   "cell_type": "code",
   "execution_count": 4,
   "id": "57cdb553",
   "metadata": {},
   "outputs": [
    {
     "name": "stdout",
     "output_type": "stream",
     "text": [
      "['Model: BX8071512900K', 'SKU: 6483663', 'Model: 100-100000059WOF', 'SKU: 6438941', 'Model: 100-100000063WOF', 'SKU: 6439000', 'Model: BX8071512700K', 'SKU: 6483672', 'Model: BX8070110900K', 'SKU: 6411492', 'Model: BX8071512600K', 'SKU: 6483676', 'Model: BX8070811700K', 'SKU: 6452221', 'Model: BX8070110400', 'SKU: 6411498', 'Model: BX8070110900', 'SKU: 6411491', 'Model: 100-100000065BOX', 'SKU: 6438943', 'Model: BX8070811600K', 'SKU: 6452220', 'Model: BX8070110100', 'SKU: 6411497', 'Model: BX8070110700K', 'SKU: 6411488', 'Model: BX8070811900K', 'SKU: 6452222', 'Model: 100-100000061WOF', 'SKU: 6438942', 'Model: BX8070811900', 'SKU: 6452217', 'Model: BX8070811700', 'SKU: 6452219', 'Model: BX8071512900KF', 'SKU: 6483666', 'Model: BX8070811400', 'SKU: 6452218', 'Model: 100-100000263BOX', 'SKU: 6474406', 'Model: BX8071512400F', 'SKU: 6492588']\n",
      "['$619.99Your price for this item is $619.99', '$714.99Your price for this item is $714.99', '$359.99Your price for this item is $359.99', '$419.99Your price for this item is $419.99', '$467.99Your price for this item is $467.99', '$299.99Your price for this item is $299.99', '$419.99Your price for this item is $419.99', '$164.99Your price for this item is $164.99', '$476.99Your price for this item is $476.99', '$259.99Your price for this item is $259.99', '$263.99Your price for this item is $263.99', '$114.99Your price for this item is $114.99', '$349.99Your price for this item is $349.99', '$549.99Your price for this item is $549.99', '$499.99Your price for this item is $499.99', '$449.99Your price for this item is $449.99', '$339.99Your price for this item is $339.99', '$589.99Your price for this item is $589.99', '$579.98Your price for this item is $579.98', '$619.98Your price for this item is $619.98', '$189.99Your price for this item is $189.99', '$309.99Your price for this item is $309.99', '$179.99Your price for this item is $179.99', '$549.98Your price for this item is $549.98']\n",
      "42\n",
      "24\n"
     ]
    }
   ],
   "source": [
    "print(cpu_list)\n",
    "print(price_list)\n",
    "print(len(cpu_list))\n",
    "print(len(price_list))"
   ]
  },
  {
   "cell_type": "code",
   "execution_count": 5,
   "id": "9b1c582d",
   "metadata": {},
   "outputs": [],
   "source": [
    "new_cpu_list =cpu_list[::2]\n",
    "remove_indices = [18,20,23]\n",
    "new_price_list = [i for j, i in enumerate(price_list) if j not in remove_indices]"
   ]
  },
  {
   "cell_type": "code",
   "execution_count": 6,
   "id": "f1fdc057",
   "metadata": {},
   "outputs": [],
   "source": [
    "url2 = 'https://www.bestbuy.com/site/searchpage.jsp?_dyncharset=UTF-8&browsedCategory=abcat0507010&cp=2&id=pcat17071&iht=n&ks=960&list=y&sc=Global&st=categoryid%24abcat0507010&type=page&usc=All%20Categories'\n",
    "browser.visit(url2)\n",
    "html = browser.html\n",
    "soup = BeautifulSoup(html,'html.parser')"
   ]
  },
  {
   "cell_type": "code",
   "execution_count": 7,
   "id": "c527cc9b",
   "metadata": {},
   "outputs": [],
   "source": [
    "cpu_list2=[]\n",
    "price_list2=[]\n",
    "cpus2 = soup.find_all(\"div\", class_= 'sku-attribute-title')\n",
    "prices2 = soup.find_all('div',class_='priceView-hero-price priceView-customer-price')\n",
    "for cpu in cpus2:\n",
    "    cpu_list2.append(cpu.text)    \n",
    "for price in prices2:\n",
    "    price_list2.append(price.text)   "
   ]
  },
  {
   "cell_type": "code",
   "execution_count": 8,
   "id": "17b4583e",
   "metadata": {},
   "outputs": [],
   "source": [
    "new_cpu_list2 =cpu_list2[::2]\n",
    "remove_indices2 = [4,5,9,20,21]\n",
    "new_price_list2 = [i for j, i in enumerate(price_list2) if j not in remove_indices2]"
   ]
  },
  {
   "cell_type": "code",
   "execution_count": 9,
   "id": "c4519ee3",
   "metadata": {},
   "outputs": [
    {
     "name": "stdout",
     "output_type": "stream",
     "text": [
      "41\n"
     ]
    }
   ],
   "source": [
    "combined_cpu_list = new_cpu_list+new_cpu_list2\n",
    "combined_cpu_list\n",
    "print(len(combined_cpu_list))"
   ]
  },
  {
   "cell_type": "code",
   "execution_count": 10,
   "id": "da73ad13",
   "metadata": {},
   "outputs": [
    {
     "name": "stdout",
     "output_type": "stream",
     "text": [
      "41\n"
     ]
    }
   ],
   "source": [
    "combined_price_list = new_price_list + new_price_list2\n",
    "combined_price_list\n",
    "print(len(combined_price_list))"
   ]
  },
  {
   "cell_type": "code",
   "execution_count": 11,
   "id": "2aa0b178",
   "metadata": {},
   "outputs": [
    {
     "data": {
      "text/html": [
       "<div>\n",
       "<style scoped>\n",
       "    .dataframe tbody tr th:only-of-type {\n",
       "        vertical-align: middle;\n",
       "    }\n",
       "\n",
       "    .dataframe tbody tr th {\n",
       "        vertical-align: top;\n",
       "    }\n",
       "\n",
       "    .dataframe thead th {\n",
       "        text-align: right;\n",
       "    }\n",
       "</style>\n",
       "<table border=\"1\" class=\"dataframe\">\n",
       "  <thead>\n",
       "    <tr style=\"text-align: right;\">\n",
       "      <th></th>\n",
       "      <th>CPU</th>\n",
       "      <th>Price</th>\n",
       "    </tr>\n",
       "  </thead>\n",
       "  <tbody>\n",
       "    <tr>\n",
       "      <th>0</th>\n",
       "      <td>Model: BX8071512900K</td>\n",
       "      <td>$619.99Your price for this item is $619.99</td>\n",
       "    </tr>\n",
       "    <tr>\n",
       "      <th>1</th>\n",
       "      <td>Model: 100-100000059WOF</td>\n",
       "      <td>$714.99Your price for this item is $714.99</td>\n",
       "    </tr>\n",
       "    <tr>\n",
       "      <th>2</th>\n",
       "      <td>Model: 100-100000063WOF</td>\n",
       "      <td>$359.99Your price for this item is $359.99</td>\n",
       "    </tr>\n",
       "    <tr>\n",
       "      <th>3</th>\n",
       "      <td>Model: BX8071512700K</td>\n",
       "      <td>$419.99Your price for this item is $419.99</td>\n",
       "    </tr>\n",
       "    <tr>\n",
       "      <th>4</th>\n",
       "      <td>Model: BX8070110900K</td>\n",
       "      <td>$467.99Your price for this item is $467.99</td>\n",
       "    </tr>\n",
       "  </tbody>\n",
       "</table>\n",
       "</div>"
      ],
      "text/plain": [
       "                       CPU                                       Price\n",
       "0     Model: BX8071512900K  $619.99Your price for this item is $619.99\n",
       "1  Model: 100-100000059WOF  $714.99Your price for this item is $714.99\n",
       "2  Model: 100-100000063WOF  $359.99Your price for this item is $359.99\n",
       "3     Model: BX8071512700K  $419.99Your price for this item is $419.99\n",
       "4     Model: BX8070110900K  $467.99Your price for this item is $467.99"
      ]
     },
     "execution_count": 11,
     "metadata": {},
     "output_type": "execute_result"
    }
   ],
   "source": [
    "df = pd.DataFrame()\n",
    "df['CPU']=combined_cpu_list\n",
    "df['Price'] = combined_price_list\n",
    "df.head()"
   ]
  },
  {
   "cell_type": "code",
   "execution_count": 12,
   "id": "0df009df",
   "metadata": {},
   "outputs": [
    {
     "data": {
      "text/html": [
       "<div>\n",
       "<style scoped>\n",
       "    .dataframe tbody tr th:only-of-type {\n",
       "        vertical-align: middle;\n",
       "    }\n",
       "\n",
       "    .dataframe tbody tr th {\n",
       "        vertical-align: top;\n",
       "    }\n",
       "\n",
       "    .dataframe thead th {\n",
       "        text-align: right;\n",
       "    }\n",
       "</style>\n",
       "<table border=\"1\" class=\"dataframe\">\n",
       "  <thead>\n",
       "    <tr style=\"text-align: right;\">\n",
       "      <th></th>\n",
       "      <th>CPU</th>\n",
       "      <th>Price</th>\n",
       "    </tr>\n",
       "  </thead>\n",
       "  <tbody>\n",
       "    <tr>\n",
       "      <th>0</th>\n",
       "      <td>BX8071512900K</td>\n",
       "      <td>619.99</td>\n",
       "    </tr>\n",
       "    <tr>\n",
       "      <th>1</th>\n",
       "      <td>100-100000059WOF</td>\n",
       "      <td>714.99</td>\n",
       "    </tr>\n",
       "    <tr>\n",
       "      <th>2</th>\n",
       "      <td>100-100000063WOF</td>\n",
       "      <td>359.99</td>\n",
       "    </tr>\n",
       "    <tr>\n",
       "      <th>3</th>\n",
       "      <td>BX8071512700K</td>\n",
       "      <td>419.99</td>\n",
       "    </tr>\n",
       "    <tr>\n",
       "      <th>4</th>\n",
       "      <td>BX8070110900K</td>\n",
       "      <td>467.99</td>\n",
       "    </tr>\n",
       "  </tbody>\n",
       "</table>\n",
       "</div>"
      ],
      "text/plain": [
       "                CPU   Price\n",
       "0     BX8071512900K  619.99\n",
       "1  100-100000059WOF  714.99\n",
       "2  100-100000063WOF  359.99\n",
       "3     BX8071512700K  419.99\n",
       "4     BX8070110900K  467.99"
      ]
     },
     "execution_count": 12,
     "metadata": {},
     "output_type": "execute_result"
    }
   ],
   "source": [
    "df['CPU'] =df['CPU'].str.rsplit(': ', 1).str[1].str[::1]\n",
    "df['Price']=df['Price'].str.split('Y',1).str[0]\n",
    "df['Price']=df['Price'].str.split('$',1).str[1]\n",
    "df.head()"
   ]
  },
  {
   "cell_type": "code",
   "execution_count": 13,
   "id": "26b5b924",
   "metadata": {},
   "outputs": [],
   "source": [
    "df.to_csv('best_buy_cpu.csv', index = False)"
   ]
  }
 ],
 "metadata": {
  "kernelspec": {
   "display_name": "Python 3 (ipykernel)",
   "language": "python",
   "name": "python3"
  },
  "language_info": {
   "codemirror_mode": {
    "name": "ipython",
    "version": 3
   },
   "file_extension": ".py",
   "mimetype": "text/x-python",
   "name": "python",
   "nbconvert_exporter": "python",
   "pygments_lexer": "ipython3",
   "version": "3.9.7"
  }
 },
 "nbformat": 4,
 "nbformat_minor": 5
}
