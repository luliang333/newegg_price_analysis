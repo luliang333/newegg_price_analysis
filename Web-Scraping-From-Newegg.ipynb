{
 "cells": [
  {
   "cell_type": "code",
   "execution_count": 1,
   "id": "69428887",
   "metadata": {},
   "outputs": [],
   "source": [
    "# Import dependencies for web scraping and data cleaning\n",
    "\n",
    "import pandas as pd\n",
    "import requests\n",
    "from splinter import Browser\n",
    "from webdriver_manager.chrome import ChromeDriverManager\n",
    "from bs4 import BeautifulSoup\n",
    "from selenium import webdriver"
   ]
  },
  {
   "cell_type": "code",
   "execution_count": 2,
   "id": "9a44e27e",
   "metadata": {},
   "outputs": [
    {
     "name": "stderr",
     "output_type": "stream",
     "text": [
      "[WDM] - \n",
      "\n",
      "[WDM] - ====== WebDriver manager ======\n",
      "[WDM] - Current google-chrome version is 97.0.4692\n",
      "[WDM] - Get LATEST driver version for 97.0.4692\n",
      "[WDM] - Driver [C:\\Users\\rache\\.wdm\\drivers\\chromedriver\\win32\\97.0.4692.71\\chromedriver.exe] found in cache\n"
     ]
    }
   ],
   "source": [
    "executable_path = {'executable_path': ChromeDriverManager().install()}\n",
    "browser = Browser('chrome', **executable_path, headless=False)\n",
    "url = 'https://www.newegg.com/d/Best-Sellers/CPUs-Processors/c/ID-34?tid=6676'\n",
    "browser.visit(url)\n",
    "#html = browser.html\n",
    "#soup = BeautifulSoup(html,'html.parser')"
   ]
  },
  {
   "cell_type": "code",
   "execution_count": 3,
   "id": "6af2f86b",
   "metadata": {},
   "outputs": [],
   "source": [
    "# Build a loop to go through each page (splinter) and append cpu names as well as prices into two seperate lists\n",
    "\n",
    "page_numbers = []\n",
    "cpu_list = []\n",
    "price_list = []\n",
    "x = 0\n",
    "for x in range (0,9):\n",
    "    html = browser.html\n",
    "    soup = BeautifulSoup(html,'html.parser')\n",
    "    x = x+1\n",
    "    page_numbers.append(x)\n",
    "    string_ints = [str(int) for int in page_numbers]\n",
    "    cpus = soup.find_all(\"a\", class_= 'item-title')\n",
    "    prices = soup.find_all('li',class_='price-current')\n",
    "    for cpu in cpus:\n",
    "        cpu_list.append(cpu.text)\n",
    "    \n",
    "        \n",
    "    for price in prices:\n",
    "        price_list.append(price.text)\n",
    "  \n",
    "    browser.find_by_text(string_ints[x-1]).click()"
   ]
  },
  {
   "cell_type": "code",
   "execution_count": 4,
   "id": "8c64f38d",
   "metadata": {},
   "outputs": [
    {
     "name": "stdout",
     "output_type": "stream",
     "text": [
      "['AMD Ryzen 5 5600X - Ryzen 5 5000 Series Vermeer (Zen 3) 6-Core 3.7 GHz Socket AM4 65W Desktop Processor - 100-100000065BOX', 'AMD Ryzen 7 5800X - Ryzen 7 5000 Series Vermeer (Zen 3) 8-Core 3.8 GHz Socket AM4 105W Desktop Processor - 100-100000063WOF', 'Intel Core i7-12700K - Core i7 12th Gen Alder Lake 12-Core (8P+4E) 3.6 GHz LGA 1700 125W Intel UHD Graphics 770 Desktop Processor - BX8071512700K', 'AMD Ryzen 9 5900X - Ryzen 9 5000 Series Vermeer (Zen 3) 12-Core 3.7 GHz Socket AM4 105W Desktop Processor - 100-100000061WOF', 'AMD Ryzen 5 5600G - Ryzen 5 5000 G-Series Cezanne (Zen 3) 6-Core 3.9 GHz Socket AM4 65W AMD Radeon Graphics Desktop Processor - 100-100000252BOX', 'Enermax M.2 2280 NVMe SSD Heatsink, Double-Sided Heat Sink, with Thermal Silicone Pad for PC / PS5 Cooling', 'Arctic Silver AS5-3.5G Thermal Compound', 'Intel Core i9-12900K - Core i9 12th Gen Alder Lake 16-Core (8P+8E) 3.2 GHz LGA 1700 125W Intel UHD Graphics 770 Desktop Processor - BX8071512900K', 'Intel Core i7-11700K - Core i7 11th Gen Rocket Lake 8-Core 3.6 GHz LGA 1200 125W Intel UHD Graphics 750 Desktop Processor - BX8070811700K', 'Intel Core i5-12600K - Core i5 12th Gen Alder Lake 10-Core (6P+4E) 3.7 GHz LGA 1700 125W Intel UHD Graphics 770 Desktop Processor - BX8071512600K', 'Intel Core i5-11600K - Core i5 11th Gen Rocket Lake 6-Core 3.9 GHz LGA 1200 125W Intel UHD Graphics 750 Desktop Processor - BX8070811600K', 'AMD Ryzen 7 5700G - Ryzen 7 5000 G-Series Cezanne (Zen 3) 8-Core 3.8 GHz Socket AM4 65W AMD Radeon Graphics Desktop Processor - 100-100000263BOX', 'AMD Ryzen 5 5600X - Ryzen 5 5000 Series Vermeer (Zen 3) 6-Core 3.7 GHz Socket AM4 65W Desktop Processor - 100-100000065BOX', 'AMD Ryzen 7 5800X - Ryzen 7 5000 Series Vermeer (Zen 3) 8-Core 3.8 GHz Socket AM4 105W Desktop Processor - 100-100000063WOF', 'Intel Core i7-12700K - Core i7 12th Gen Alder Lake 12-Core (8P+4E) 3.6 GHz LGA 1700 125W Intel UHD Graphics 770 Desktop Processor - BX8071512700K', 'AMD Ryzen 9 5900X - Ryzen 9 5000 Series Vermeer (Zen 3) 12-Core 3.7 GHz Socket AM4 105W Desktop Processor - 100-100000061WOF', 'AMD Ryzen 5 5600G - Ryzen 5 5000 G-Series Cezanne (Zen 3) 6-Core 3.9 GHz Socket AM4 65W AMD Radeon Graphics Desktop Processor - 100-100000252BOX', 'Enermax M.2 2280 NVMe SSD Heatsink, Double-Sided Heat Sink, with Thermal Silicone Pad for PC / PS5 Cooling', 'Arctic Silver AS5-3.5G Thermal Compound', 'Intel Core i9-12900K - Core i9 12th Gen Alder Lake 16-Core (8P+8E) 3.2 GHz LGA 1700 125W Intel UHD Graphics 770 Desktop Processor - BX8071512900K', 'Intel Core i7-11700K - Core i7 11th Gen Rocket Lake 8-Core 3.6 GHz LGA 1200 125W Intel UHD Graphics 750 Desktop Processor - BX8070811700K', 'Intel Core i5-12600K - Core i5 12th Gen Alder Lake 10-Core (6P+4E) 3.7 GHz LGA 1700 125W Intel UHD Graphics 770 Desktop Processor - BX8071512600K', 'Intel Core i5-11600K - Core i5 11th Gen Rocket Lake 6-Core 3.9 GHz LGA 1200 125W Intel UHD Graphics 750 Desktop Processor - BX8070811600K', 'AMD Ryzen 7 5700G - Ryzen 7 5000 G-Series Cezanne (Zen 3) 8-Core 3.8 GHz Socket AM4 65W AMD Radeon Graphics Desktop Processor - 100-100000263BOX', 'Cooler Master Hyper 212 Black Edition CPU Air Cooler, Silencio FP120 Fan, 4 CDC 2.0 Heatpipes, Anodized Gun-Metal Black, Brushed Nickel Fins for AMD Ryzen/Intel LGA1200/1151/1700 Compatible', 'CORSAIR TM30 Performance Thermal Paste, CT-9010001-WW.', 'AMD Ryzen 9 5950X - Ryzen 9 5000 Series Vermeer (Zen 3) 16-Core 3.4 GHz Socket AM4 105W Desktop Processor - 100-100000059WOF', 'Intel Core i9-11900K - Core i9 11th Gen Rocket Lake 8-Core 3.5 GHz LGA 1200 125W Intel UHD Graphics 750 Desktop Processor - BX8070811900K', 'Cooler Master Hyper 212 RGB Black Edition CPU Air Cooler, SF120R RGB Fan, 4 CD 2.0 Heatpipes, Anodized Gun-Metal Black, RGB Lighting for AMD Ryzen/Intel LGA1200/1151 LGA 1700 Compatible', 'Intel Core i5-11400 - Core i5 11th Gen Rocket Lake 6-Core 2.6 GHz LGA 1200 65W Intel UHD Graphics 730 Desktop Processor - BX8070811400', 'Intel Core i5-10400 - Core i5 10th Gen Comet Lake 6-Core 2.9 GHz LGA 1200 65W Intel UHD Graphics 630 Desktop Processor - BX8070110400', 'Cooler Master Hyper 212 Evo CPU Cooler, 4 CDC Heatpipes, 120mm PWM Fan, Aluminum Fins for AMD Ryzen/Intel LGA1200/1151', 'AMD Ryzen 3 3100 - Ryzen 3 3rd Gen Matisse (Zen 2) Quad-Core 3.6 GHz Socket AM4 65W Desktop Processor - 100-100000284BOX', 'CoolerMaster MasterLiquid ML240L RGB V2, Close-Loop AIO CPU Liquid Cooler, Dual SickleFlow 120mm, RGB Lighting, 3rd Gen Dual Chamber Pump for AMD Ryzen/Intel LGA1200/1151 LGA 1700 Compatible', 'MasterLiquid ML280 Mirror ARGB Close-Loop AIO CPU Liquid Cooler, Mirror ARGB Pump, 280 Radiator, Dual SickleFlow 140mm, 3rd Gen Dual Chamber Pump for AMD Ryzen/Intel 1200, 1151, LGA 1700 Compatible', 'Arctic Cooling Inc. ACTCP00002B MX-4 4g 2019 Thermal Compound For All Coolers', 'AMD Ryzen 5 3rd Gen - RYZEN 5 3600 Matisse (Zen 2) 6-Core 3.6 GHz (4.2 GHz Max Boost) Socket AM4 65W 100-100000031BOX Desktop Processor', 'Corsair Hydro Series, iCUE H100i ELITE CAPELLIX, 240mm Radiator, Dual ML120 RGB PWM Fans, Powerful iCUE Software, Liquid CPU Cooler LGA 1700 Compatible', 'CORSAIR iCUE H150i ELITE CAPELLIX Liquid CPU Cooler, CW-9060048-WW LGA 1700 Compatible', 'CORSAIR iCUE H150i ELITE CAPELLIX Liquid CPU Cooler LGA 1700 Compatible - White', 'Intel Core i7-12700KF - Core i7 12th Gen Alder Lake 12-Core (8P+4E) 3.6 GHz LGA 1700 125W Desktop Processor - BX8071512700KF', 'CORSAIR iCUE H100i RGB PRO XT, 240mm Radiator, Dual 120mm PWM Fans, Software Control, Liquid CPU Cooler, CW-9060043-WW LGA 1700 Compatible', 'Noctua NH-D15 chromax.black, Dual-Tower CPU cooler (140mm, Black)', 'Noctua NT-H1 3.5g, Pro-Grade Thermal Compound Paste (3.5g)', 'Noctua NH-D15, Premium CPU Cooler with 2x NF-A15 PWM 140mm Fans (Brown)', 'Intel Core i5-12400 - Core i5 12th Gen Alder Lake 6-Core 2.5 GHz LGA 1700 65W Intel UHD Graphics 730 Desktop Processor - BX8071512400', 'Intel Core i9-10900K - Core i9 10th Gen Comet Lake 10-Core 3.7 GHz LGA 1200 125W Intel UHD Graphics 630 Desktop Processor - BX8070110900K', 'NZXT Kraken Z Series Z73 360mm - RL-KRZ73-01 - AIO RGB CPU Liquid Cooler - Customizable LCD Display - Improved Pump - Powered by CAM V4 - RGB Connector - Aer P 120mm Radiator Fans LGA 1700 Compatible', 'Intel Core i3-10100F - Core i3 10th Gen Comet Lake Quad-Core 3.6 GHz LGA 1200 65W Desktop Processor - BX8070110100F', 'MSI MAG Series CORELIQUID 360R, ARGB CPU Liquid Cooler (AIO): Rotatable Blockhead Design, 360mm Radiator, Triple 120mm ARGB PWM Fans LGA 1700 Compatible', 'Arctic Silver CMQ2-2.7G Céramique 2 Tri-Linear Ceramic Thermal Compound', 'Intel Core i3-10105 - Core i3 10th Gen Comet Lake Quad-Core 3.7 GHz LGA 1200 65W Intel UHD Graphics 630 Desktop Processor - BX8070110105', 'CORSAIR iCUE H100i ELITE CAPELLIX WHITE, 240mm Radiator, Liquid CPU Cooler, White, CW-9060050-WW LGA 1700 Compatible', 'Thermal Grizzly Kryonaut Thermal Grease Paste - 1.0 Gram', 'CORSAIR iCUE H150i RGB PRO XT, 360mm Radiator, Triple 120mm PWM Fans, Advanced RGB Lighting and Fan Control with Software, Liquid CPU Cooler LGA 1700 Compatible', 'AMD Ryzen 7 3rd Gen - RYZEN 7 3700X Matisse (Zen 2) 8-Core 3.6 GHz (4.4 GHz Max Boost) Socket AM4 65W 100-100000071BOX Desktop Processor', 'Corsair Hydro Series H100x Extreme Performance Liquid / Water 240mm CPU Cooler (CW-9060040-WW) LGA 1700 Compatible', 'AMD Ryzen 7 3rd Gen - RYZEN 7 3800X Matisse (Zen 2) 8-Core 3.9 GHz (4.5 GHz Max Boost) Socket AM4 105W 100-100000025BOX Desktop Processor', 'Intel Core i5-12400F - Core i5 12th Gen Alder Lake 6-Core 2.5 GHz LGA 1700 65W Desktop Processor - BX8071512400F', 'Intel Core i3-10100 - Core i3 10th Gen Comet Lake Quad-Core 3.6 GHz LGA 1200 65W Intel UHD Graphics 630 Desktop Processor - BX8070110100', 'Intel Core i7 10th Gen - Core i7-10700K Comet Lake 8-Core 3.8 GHz LGA 1200 125W Desktop Processor w/ Intel UHD Graphics 630', 'Vetroo V5 Black CPU Air Cooler w/ 5 Heat Pipes 120mm PWM Processor 150W TDP Cooler for Intel LGA 1700/1200/115X AMD Ryzen AM4 Socket w/Addressable RGB Sync', 'NZXT Kraken X53 240mm - RL-KRX53-01 - AIO RGB CPU Liquid Cooler - Rotating Infinity Mirror Design - Powered By CAM V4 - RGB Connector - 2 x Aer P120 120mm Radiator Fans LGA 1700 Compatible', 'ASUS ROG Strix LC 360 RGB All-in-one Liquid CPU Cooler 360mm Radiator, Intel 115x/2066 and AMD AM4/TR4 Support, Triple 120mm 4-pin PWM Addressable RGB Fans LGA 1700 Compatible', 'Noctua NH-U12S, Premium CPU Cooler with NF-F12 120mm Fan (Brown)', 'Intel Core i7-11700KF - Core i7 11th Gen Rocket Lake 8-Core 3.6 GHz LGA 1200 125W Desktop Processor - BX8070811700KF', 'Arctic Silver ACN-60ML (2-PC-SET) Thermal material Remover & Surface Purifier', 'Noctua NH-D9L, Premium CPU Cooler with NF-A9 92mm Fan (Brown)', 'Thermaltake UX100 5V Motherboard Sync High Airflow Hydraulic Bearing ARGB Lighting CPU Cooler', 'Vetroo V5 White CPU Air Cooler w/ 5 Heat Pipes 120mm PWM Processor 150W TDP Cooler for Intel LGA 1200/115X AMD Ryzen AM4 Socket w/Addressable RGB Sync', 'Thermaltake TOUGHAIR 310 170W TDP CPU Cooler, Intel/AMD Universal Socket (LGA 1700/1200), 120mm 2000RPM High Static Pressure PWM Fan with High Performance Copper Heat Pipes LGA 1700 Ready', 'Cooler Master Hyper 212 EVO V2 CPU Air Cooler with SickleFlow 120, PWM Fan, Direct Contact Technology, 4 copper Heat Pipes for AMD Ryzen/Intel LGA1200/1151 LGA 1700 Compatible', 'CORSAIR iCUE H115i RGB PRO XT, 280mm Radiator, Dual 140mm PWM Fans, Software Control, Liquid CPU Cooler, CW-9060044-WW LGA 1700 Compatible', 'Corsair Hydro Series, iCUE H115i ELITE CAPELLIX, 280mm Radiator, Dual ML140 RGB PWM Fans, Powerful iCUE Software, Liquid CPU Cooler LGA 1700 Compatible', 'ASUS ROG Ryujin II 360 RGB all-in-one liquid CPU cooler 360mm Radiator (3.5\" color LCD, 3x Noctua iPPC 2000 PWM 120mm radiator fans, compatible with Intel LGA1700, 1200 and AM4 socket)', \"Cooler Master AMD Wraith Ripper ThreadRipper TR4 High Performance CPU Air Cooler, Addressable RGB Threadripper logo's display, 7 Heat Pipes, Dual Tower Heatsink, Wraith Armor Air-Guide\", 'MasterLiquid ML360 Mirror ARGB Close-Loop AIO CPU Liquid Cooler, Mirror ARGB Pump, 360 Radiator, Triple SickleFlow 120mm, 3rd Gen Dual Chamber Pump for AMD Ryzen/Intel 1200, 1151, LGA 1700 Compatible', 'Noctua NH-U12S chromax.black, 120mm Single-Tower CPU Cooler (Black)', 'EK 240mm AIO Basic, All-in-One Liquid CPU Cooler with EK-Vardar High-Performance PMW Fans, Water Cooling Computer Parts, 120mm Fan, Intel 115X/1200/2066, AMD AM4, (240mm AIO) LGA 1700 Compatible', 'Intel Core i7-10700F - Core i7 10th Gen Comet Lake 8-Core 2.9 GHz LGA 1200 65W Desktop Processor - BX8070110700F', 'CORSAIR XTM50 High Performance Ultra-Low Thermal Impedance CPU/GPU Thermal Compound - 5g', 'Arctic Silver 5 High-Density Polysynthetic Silver Thermal Compound AS5-12G - OEM', 'Noctua NH-U9S, Premium CPU Cooler with NF-A9 92mm Fan (Brown)', 'Cooler Master A71C ARGB CPU Air Cooler for AMD Ryzen, Anodized Black Aluminum Fins, Copper Insert Base, MF120 120m, Addressable RGB Lighting', 'Intel Core i9-12900KF - Core i9 12th Gen Alder Lake 16-Core (8P+8E) 3.2 GHz LGA 1700 125W Desktop Processor - BX8071512900KF', 'Intel Core i7-11700 - Core i7 11th Gen Rocket Lake 8-Core 2.5 GHz LGA 1200 65W Intel UHD Graphics 750 Desktop Processor - BX8070811700', 'Intel Core i7-11700F - Core i7 11th Gen Rocket Lake 8-Core 2.5 GHz LGA 1200 65W Desktop Processor - BX8070811700F', 'Cooler Master MasterAir MA620M Dual Tower ARGB High Performance CPU Air Cooler, 6 CDC 2.0 Heatpipes, SF120R Fan, Hexagon Strip Addressable RGB Lighting for AMD Ryzen/Intel LGA1200/1151', 'Cooler Master MasterLiquid Lite 240 AIO CPU Liquid Cooler, White LED Pump, FEP Tubing, Dual 120mm Air Balance MF, Dual Dissipation Technology LGA 1700 Compatible', 'ARCTIC COOLING Liquid Freezer II - 240 ACFRE00046A Multi Compatible All-In-One CPU Water Cooler LGA 1700 Compatible', 'NZXT Kraken Z Series Z63 280mm - RL-KRZ63-01 - AIO RGB CPU Liquid Cooler - Customizable LCD Display - Improved Pump - Powered by CAM V4 - RGB Connector - Aer P 140mm Radiator Fans LGA 1700 Compatible', 'MSI MAG Series CORELIQUID P240 AIO Liquid CPU Cooler, 240mm Radiator, Dual 120mm PWM Fans LGA 1700 Ready', 'MSI MAG Series CORELIQUID 240R, ARGB CPU Liquid Cooler (AIO): Rotatable Blockhead Design, 240mm Radiator, Dual 120mm ARGB PWM Fans LGA 1700 Compatible', 'Noctua NH-D15S chromax.black, Premium Dual-Tower CPU Cooler with NF-A15 PWM 140mm Fan (Black)', 'Noctua NH-U12A chromax.black, 120mm Single-Tower CPU Cooler (Black)', 'Noctua NH-L9x65, Premium Low-Profile CPU Cooler (65mm, Brown)', 'Intel Core i5-11600KF - Core i5 11th Gen Rocket Lake 6-Core 3.9 GHz LGA 1200 125W Desktop Processor - BX8070811600KF', 'be quiet! Pure Rock 2 Black, CPU cooler, 150W TDP, incl. Pure Wings 2 120mm PWM fan, HDT technology LGA 1700 Compatible', 'Enermax ETS-N31 CPU Air Cooler 130W+ TDP, 3 Direct Contact Heat Pipes, 92mm Fan, AMD Ryzen / Intel LGA 1200/1151, ETS-N31-02', 'Enermax ETS-T40 Fit CPU Air Cooler, 200W+ TDP for Intel/ AMD Universal Socket, AM4 / LGA 1700/1200/1151, 4 Direct Contact Heat Pipes, 120mm Silent PWM Fan LGA 1700 Compatible', 'CORSAIR iCUE H170i ELITE CAPELLIX Liquid CPU Cooler - 33 Dynamic RGB LEDs - 140mm Fans - 420mm Radiator - COMMANDER CORE Smart Lighting Controller -CORSAIR iCUE Software Compatible LGA 1700 Compatible', 'Fractal Design Celsius+ S36 Dynamic X2 PWM Black 360mm Silent Performance Slim Radiator AIO CPU Liquid/Water Cooler', 'NZXT Kraken Z53 240mm - RL-KRZ53-01 - AIO RGB CPU Liquid Cooler - Customizable LCD Display - Improved Pump - Powered by CAM V4 - RGB Connector - Aer P 120mm Radiator Fans LGA 1700 Compatible', 'NZXT Kraken M22 120mm - All-In-One RGB CPU Liquid Cooler - CAM-Powered - Infinity Mirror Design - Reinforced Extended Tubing - Aer P120mm PWM Radiator Fan LGA 1700 Compatible', 'NZXT Kraken Z73 360mm Liquid Cooler with LCD Display LGA 1700 Compatible - White', 'ASUS ROG Strix LC 240 RGB White Edition All-in-one Liquid CPU Cooler with Aura Sync RGB, and Dual ROG 120mm Addressable RGB Radiator Fans LGA 1700 Compatible', 'NZXT Kraken Z63 280mm Liquid Cooler with LCD Display LGA 1700 Compatible - White', 'NZXT Kraken X73 360mm - RL-KRX73-01 - AIO RGB CPU Liquid Cooler - Rotating Infinity Mirror Design - Powered By CAM V4 - RGB Connector - 3 x Aer P120 120mm Radiator Fans LGA 1700 Compatible']\n",
      "['$321.50\\xa0–', '$349.97\\xa0–', '$374.98\\xa0–', '$552.99\\xa0–', '$265.00\\xa0–', '$17.99\\xa0–', '', '$616.99\\xa0–', '$349.99\\xa0–', '$284.98\\xa0–', '$249.99\\xa0–', '$308.97\\xa0–', '$321.50\\xa0–', '$349.97\\xa0–', '$374.98\\xa0–', '$552.99\\xa0–', '$265.00\\xa0–', '$17.99\\xa0–', '', '$616.99\\xa0–', '$349.99\\xa0–', '$284.98\\xa0–', '$249.99\\xa0–', '$308.97\\xa0–', '$41.84\\xa0–', '$7.99\\xa0–', '$684.97\\xa0–', '$489.99\\xa0–', '$47.34\\xa0–', '$182.18\\xa0–', '$156.99\\xa0–', '$38.16\\xa0–', '$174.99\\xa0–', '$89.99\\xa0–', '$119.99\\xa0–', '$7.85\\xa0–', '$274.99\\xa0–', '$135.99\\xa0–', '$189.99\\xa0–', '$199.99\\xa0–', '$389.98\\xa0–', '$95.88\\xa0–', '$109.95\\xa0–', '$11.49\\xa0–', '$91.95\\xa0–', '$208.99\\xa0–', '$479.00\\xa0–', '$273.99\\xa0–', '$84.98\\xa0–', '$139.99\\xa0–', '$4.99\\xa0–', '$119.98\\xa0–', '$159.99\\xa0–', '$6.37\\xa0–', '$133.50\\xa0–', '$359.99\\xa0–', '$99.99\\xa0–', '$347.00\\xa0–', '$199.99\\xa0–', '$114.93\\xa0–', '$394.01\\xa0–', '$29.99\\xa0–', '$114.88\\xa0–', '$263.90\\xa0–', '$67.99\\xa0–', '$319.98\\xa0–', '$8.80\\xa0–', '$59.95\\xa0–', '$18.40\\xa0–', '$29.99\\xa0–', '$39.99\\xa0–', '$53.29\\xa0–', '$113.99\\xa0–', '$164.99\\xa0–', '$309.99\\xa0–', '$107.00\\xa0–', '$94.99\\xa0–', '$79.95\\xa0–', '', '$254.98\\xa0–', '$18.28\\xa0–', '$19.99\\xa0–', '$56.50\\xa0–', '$27.99\\xa0–', '$615.99\\xa0–', '$329.97\\xa0–', '$306.31\\xa0–', '$99.99\\xa0–', '$64.99\\xa0–', '$88.99\\xa0–', '$246.99\\xa0–', '$89.99\\xa0–', '$99.99\\xa0–', '$99.95\\xa0–', '$119.90\\xa0–', '$54.95\\xa0–', '$248.96\\xa0–', '$44.00\\xa0–', '$29.99\\xa0–', '$42.99\\xa0–', '$216.66\\xa0–', '$179.99\\xa0–', '$234.99\\xa0–', '$79.99\\xa0–', '$294.99\\xa0–', '$184.99\\xa0–', '$274.99\\xa0–', '$169.99\\xa0–']\n",
      "108\n",
      "108\n"
     ]
    }
   ],
   "source": [
    "# Check to see if two lists have the same lenghth\n",
    "\n",
    "print(cpu_list)\n",
    "print(price_list)\n",
    "print(len(cpu_list))\n",
    "print(len(price_list))"
   ]
  },
  {
   "cell_type": "code",
   "execution_count": 5,
   "id": "339b0df5",
   "metadata": {},
   "outputs": [
    {
     "data": {
      "text/html": [
       "<div>\n",
       "<style scoped>\n",
       "    .dataframe tbody tr th:only-of-type {\n",
       "        vertical-align: middle;\n",
       "    }\n",
       "\n",
       "    .dataframe tbody tr th {\n",
       "        vertical-align: top;\n",
       "    }\n",
       "\n",
       "    .dataframe thead th {\n",
       "        text-align: right;\n",
       "    }\n",
       "</style>\n",
       "<table border=\"1\" class=\"dataframe\">\n",
       "  <thead>\n",
       "    <tr style=\"text-align: right;\">\n",
       "      <th></th>\n",
       "      <th>CPU</th>\n",
       "      <th>Price</th>\n",
       "    </tr>\n",
       "  </thead>\n",
       "  <tbody>\n",
       "    <tr>\n",
       "      <th>0</th>\n",
       "      <td>AMD Ryzen 5 5600X - Ryzen 5 5000 Series Vermee...</td>\n",
       "      <td>$321.50 –</td>\n",
       "    </tr>\n",
       "    <tr>\n",
       "      <th>1</th>\n",
       "      <td>AMD Ryzen 7 5800X - Ryzen 7 5000 Series Vermee...</td>\n",
       "      <td>$349.97 –</td>\n",
       "    </tr>\n",
       "    <tr>\n",
       "      <th>2</th>\n",
       "      <td>Intel Core i7-12700K - Core i7 12th Gen Alder ...</td>\n",
       "      <td>$374.98 –</td>\n",
       "    </tr>\n",
       "    <tr>\n",
       "      <th>3</th>\n",
       "      <td>AMD Ryzen 9 5900X - Ryzen 9 5000 Series Vermee...</td>\n",
       "      <td>$552.99 –</td>\n",
       "    </tr>\n",
       "    <tr>\n",
       "      <th>4</th>\n",
       "      <td>AMD Ryzen 5 5600G - Ryzen 5 5000 G-Series Ceza...</td>\n",
       "      <td>$265.00 –</td>\n",
       "    </tr>\n",
       "  </tbody>\n",
       "</table>\n",
       "</div>"
      ],
      "text/plain": [
       "                                                 CPU      Price\n",
       "0  AMD Ryzen 5 5600X - Ryzen 5 5000 Series Vermee...  $321.50 –\n",
       "1  AMD Ryzen 7 5800X - Ryzen 7 5000 Series Vermee...  $349.97 –\n",
       "2  Intel Core i7-12700K - Core i7 12th Gen Alder ...  $374.98 –\n",
       "3  AMD Ryzen 9 5900X - Ryzen 9 5000 Series Vermee...  $552.99 –\n",
       "4  AMD Ryzen 5 5600G - Ryzen 5 5000 G-Series Ceza...  $265.00 –"
      ]
     },
     "execution_count": 5,
     "metadata": {},
     "output_type": "execute_result"
    }
   ],
   "source": [
    "# Create a dataframe to combine newegg's cpu models along with their prices\n",
    "\n",
    "new_egg_cpu_df = pd.DataFrame()\n",
    "new_egg_cpu_df['CPU'] = cpu_list\n",
    "new_egg_cpu_df['Price'] = price_list\n",
    "new_egg_cpu_df.head()"
   ]
  },
  {
   "cell_type": "code",
   "execution_count": 6,
   "id": "2e2cfef5",
   "metadata": {},
   "outputs": [
    {
     "data": {
      "text/html": [
       "<div>\n",
       "<style scoped>\n",
       "    .dataframe tbody tr th:only-of-type {\n",
       "        vertical-align: middle;\n",
       "    }\n",
       "\n",
       "    .dataframe tbody tr th {\n",
       "        vertical-align: top;\n",
       "    }\n",
       "\n",
       "    .dataframe thead th {\n",
       "        text-align: right;\n",
       "    }\n",
       "</style>\n",
       "<table border=\"1\" class=\"dataframe\">\n",
       "  <thead>\n",
       "    <tr style=\"text-align: right;\">\n",
       "      <th></th>\n",
       "      <th>CPU</th>\n",
       "      <th>Price</th>\n",
       "    </tr>\n",
       "  </thead>\n",
       "  <tbody>\n",
       "    <tr>\n",
       "      <th>0</th>\n",
       "      <td>100-100000065BOX</td>\n",
       "      <td>321.50</td>\n",
       "    </tr>\n",
       "    <tr>\n",
       "      <th>1</th>\n",
       "      <td>100-100000063WOF</td>\n",
       "      <td>349.97</td>\n",
       "    </tr>\n",
       "    <tr>\n",
       "      <th>2</th>\n",
       "      <td>BX8071512700K</td>\n",
       "      <td>374.98</td>\n",
       "    </tr>\n",
       "    <tr>\n",
       "      <th>3</th>\n",
       "      <td>100-100000061WOF</td>\n",
       "      <td>552.99</td>\n",
       "    </tr>\n",
       "    <tr>\n",
       "      <th>4</th>\n",
       "      <td>100-100000252BOX</td>\n",
       "      <td>265.00</td>\n",
       "    </tr>\n",
       "    <tr>\n",
       "      <th>...</th>\n",
       "      <td>...</td>\n",
       "      <td>...</td>\n",
       "    </tr>\n",
       "    <tr>\n",
       "      <th>103</th>\n",
       "      <td>Compatible</td>\n",
       "      <td>79.99</td>\n",
       "    </tr>\n",
       "    <tr>\n",
       "      <th>104</th>\n",
       "      <td>White</td>\n",
       "      <td>294.99</td>\n",
       "    </tr>\n",
       "    <tr>\n",
       "      <th>105</th>\n",
       "      <td>Compatible</td>\n",
       "      <td>184.99</td>\n",
       "    </tr>\n",
       "    <tr>\n",
       "      <th>106</th>\n",
       "      <td>White</td>\n",
       "      <td>274.99</td>\n",
       "    </tr>\n",
       "    <tr>\n",
       "      <th>107</th>\n",
       "      <td>Compatible</td>\n",
       "      <td>169.99</td>\n",
       "    </tr>\n",
       "  </tbody>\n",
       "</table>\n",
       "<p>92 rows × 2 columns</p>\n",
       "</div>"
      ],
      "text/plain": [
       "                  CPU   Price\n",
       "0    100-100000065BOX  321.50\n",
       "1    100-100000063WOF  349.97\n",
       "2       BX8071512700K  374.98\n",
       "3    100-100000061WOF  552.99\n",
       "4    100-100000252BOX  265.00\n",
       "..                ...     ...\n",
       "103        Compatible   79.99\n",
       "104             White  294.99\n",
       "105        Compatible  184.99\n",
       "106             White  274.99\n",
       "107        Compatible  169.99\n",
       "\n",
       "[92 rows x 2 columns]"
      ]
     },
     "execution_count": 6,
     "metadata": {},
     "output_type": "execute_result"
    }
   ],
   "source": [
    "# Extracting only the model # for each CPU, which can later be used to compare with the competitors' listings\n",
    "# Extracting only numbers from the 'Price' columns (string - float)\n",
    "# Drop the nulls\n",
    "\n",
    "new_egg_cpu_df['CPU'] =new_egg_cpu_df['CPU'].str.split(' ', 0).str[-1].str[::1]\n",
    "new_egg_cpu_df['Price'] = new_egg_cpu_df['Price'].str.extract('(\\d+\\.\\d+)').astype(float)\n",
    "new_egg_cpu_df=new_egg_cpu_df.dropna()\n",
    "new_egg_cpu_df = new_egg_cpu_df.drop_duplicates()\n",
    "new_egg_cpu_df"
   ]
  },
  {
   "cell_type": "code",
   "execution_count": 7,
   "id": "6663c597",
   "metadata": {},
   "outputs": [],
   "source": [
    "new_egg_cpu_df.to_csv('new_egg_cpu.csv', index = False)"
   ]
  }
 ],
 "metadata": {
  "kernelspec": {
   "display_name": "Python 3 (ipykernel)",
   "language": "python",
   "name": "python3"
  },
  "language_info": {
   "codemirror_mode": {
    "name": "ipython",
    "version": 3
   },
   "file_extension": ".py",
   "mimetype": "text/x-python",
   "name": "python",
   "nbconvert_exporter": "python",
   "pygments_lexer": "ipython3",
   "version": "3.9.7"
  }
 },
 "nbformat": 4,
 "nbformat_minor": 5
}
